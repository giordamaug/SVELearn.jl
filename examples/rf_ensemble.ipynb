{
 "cells": [
  {
   "cell_type": "markdown",
   "metadata": {},
   "source": [
    "## Load the SVElearnj package"
   ]
  },
  {
   "cell_type": "code",
   "execution_count": null,
   "metadata": {
    "vscode": {
     "languageId": "plaintext"
    }
   },
   "outputs": [],
   "source": [
    "using Pkg\n",
    "Pkg.add(url=\"https://github.com/giordamaug/SVElearnj\")"
   ]
  },
  {
   "cell_type": "markdown",
   "metadata": {},
   "source": [
    "## SVE of RandomForests on Irisi dataset"
   ]
  },
  {
   "cell_type": "code",
   "execution_count": null,
   "metadata": {
    "vscode": {
     "languageId": "plaintext"
    }
   },
   "outputs": [],
   "source": [
    "using MLJ\n",
    "using MLJBase\n",
    "using RDatasets\n",
    "using SVElearnj: SplitVotingEnsemble\n",
    "\n",
    "# Load the Iris dataset\n",
    "iris = dataset(\"datasets\", \"iris\")\n",
    "X = Matrix(iris[:, 1:4])  # Manually select feature columns\n",
    "X = DataFrame(X, :auto)\n",
    "y = iris[:, 5] \n",
    "\n",
    "# Partition the dataset\n",
    "train, test = MLJBase.partition(eachindex(y), 0.8, shuffle=true, rng=1)\n",
    "\n",
    "# Load and initialize the classifier\n",
    "DecisionTreeClassifier = @load DecisionTreeClassifier pkg=DecisionTree verbosity=-1\n",
    "clf = DecisionTreeClassifier(max_depth=5)\n",
    "sve_model = SplitVotingEnsemble(clf)\n",
    "\n",
    "# Bind model to data with a machine\n",
    "mach = machine(sve_model, X, y)\n",
    "fit!(mach)\n",
    "\n",
    "# Make predictions\n",
    "results = evaluate!(\n",
    "    mach,\n",
    "    check_measure=false,\n",
    "    resampling=MLJ.CV(nfolds=5),\n",
    "    measure = [accuracy, sensitivity, specificity, balanced_accuracy, mcc, confmat],\n",
    "    per_observation=false,\n",
    "    verbosity=0\n",
    ")\n",
    "conf_matrix = results.measurement[6]"
   ]
  }
 ],
 "metadata": {
  "language_info": {
   "name": "python"
  }
 },
 "nbformat": 4,
 "nbformat_minor": 2
}
